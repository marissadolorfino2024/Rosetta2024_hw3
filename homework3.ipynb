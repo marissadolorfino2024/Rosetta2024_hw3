{
 "cells": [
  {
   "attachments": {},
   "cell_type": "markdown",
   "metadata": {},
   "source": [
    "First, download this notebook and upload it to your Google Drive. Once it's in your Google Drive, you can open it with Google Colab. Write your code in Google Colab. When you're done, download the notebook from Google Colab and upload it to GitHub. This is exactly what you did in the previous assignment."
   ]
  },
  {
   "attachments": {},
   "cell_type": "markdown",
   "metadata": {},
   "source": [
    "# HW3 : More Python Exercises\n",
    "\n",
    "Hi everyone! Welcome to the third homework assignment. This assignment contains more Python exercises. You will practice using lists and the `if` statement."
   ]
  },
  {
   "attachments": {},
   "cell_type": "markdown",
   "metadata": {},
   "source": [
    "### Problem 1: Age Predictor.\n",
    "\n",
    "Write a program to predict the age of the user. You will do this by asking six questions:\n",
    "\n",
    ">Question 1: \"Do you own a landline? (yes/no)\"\n",
    "\n",
    "Answer 1: \"yes\" is older, \"no\" is younger\n",
    "\n",
    ">Question 2: \"Do you know how to write in cursive? (yes/no)\"\n",
    "\n",
    "Answer 2: \"yes\" is older, \"no\" is younger\n",
    "\n",
    ">Question 3: \"Do you know how to use a rotary phone? (yes/no)\"\n",
    "\n",
    "Answer 3: \"yes\" is older, \"no\" is younger\n",
    "\n",
    ">Question 4: \"If I say \"up up down down left right left right\" what do you say?\"\n",
    "\n",
    "Answer 4: \"B A\" is younger, \"huh?\" is older\n",
    "\n",
    ">Question 5: \"Do you know what a floppy disk is? (yes/no)\"\n",
    "\n",
    "Answer 5: \"yes\" is older, \"no\" is younger\n",
    "\n",
    ">Question 6: \"What are records made of?\"\n",
    "\n",
    "Answer 6: \"vinyl\" is older, \"plastic\" is younger\n",
    "\n",
    "For each question, if the given answer is the older answer, add 1 to the age. If the given answer is the younger answer, subtract 1 from the age. If the given answer is neither, add 0 to the age.\n",
    "\n",
    "Now take the answers and average them. If the average is less than 0, print \"You are young!\" If the average is greater than 0, print \"You are old!\" If the average is 0, print \"You are timeless!\""
   ]
  },
  {
   "cell_type": "code",
   "execution_count": 2,
   "metadata": {},
   "outputs": [],
   "source": [
    "# Implement your code for Problem 1 in this cell."
   ]
  },
  {
   "attachments": {},
   "cell_type": "markdown",
   "metadata": {},
   "source": [
    "### Problem 2: Sorter.\n",
    "\n",
    "Write a program to sort a list of integers that the user gives you. Prompt the user to give you a list of integers, separated by spaces, and then hit enter. Once they've hit enter, \n",
    "1. convert the string that you are given into integers, and\n",
    "2. put those integers into a Python \"list\".\n",
    "\n",
    "(A list in Python is an array; it has the insertion and access complexity of an array and not a typical computer-science-class \"list.\" They're called lists anyways.)\n",
    "\n",
    "After you have created the list, use a function that list provides (google for it!) that will sort the contents of the list in ascending order.\n",
    "\n",
    "Then print the sorted list to the screen for the user.\n",
    "\n",
    "You may assume that the user is not going to input \"five\" to mean the number 5 or give you any non-integer inputs."
   ]
  },
  {
   "cell_type": "code",
   "execution_count": null,
   "metadata": {},
   "outputs": [],
   "source": [
    "# Implement your code for Problem 2 in this cell."
   ]
  },
  {
   "attachments": {},
   "cell_type": "markdown",
   "metadata": {},
   "source": [
    "### Problem 3: Repeater.\n",
    "\n",
    "Write a program that takes two lists of integers that the user gives you. Prompt for the first list, wait for them to hit enter, then prompt for the second list. The lists must be the same length.\n",
    "\n",
    "Print out the elements of the first list repeated as many times as requested in the second list.\n",
    "\n",
    "E.g.\n",
    "\n",
    ">Please enter your first list: \n",
    "\n",
    "1 2 3 4 5 6 7\n",
    "\n",
    ">Please enter your second list:\n",
    "\n",
    "0 2 1 0 3 2 1\n",
    "\n",
    ">Here are your results:\n",
    "\n",
    "2 2 3 5 5 5 6 6 7\n",
    "\n",
    "(The first element, 1, is repeated 0 times; the second element, 2, is repeated 2 times; the third element 3 is repeated 1 time; etc.)\n",
    "\n",
    "If the user gives you two lists of different length, print an error message to the screen instead of printing any numbers."
   ]
  },
  {
   "cell_type": "code",
   "execution_count": null,
   "metadata": {},
   "outputs": [],
   "source": [
    "# Implement your code for Problem 3 in this cell."
   ]
  }
 ],
 "metadata": {
  "kernelspec": {
   "display_name": "Python 3",
   "language": "python",
   "name": "python3"
  },
  "language_info": {
   "codemirror_mode": {
    "name": "ipython",
    "version": 3
   },
   "file_extension": ".py",
   "mimetype": "text/x-python",
   "name": "python",
   "nbconvert_exporter": "python",
   "pygments_lexer": "ipython3",
   "version": "3.10.6"
  },
  "orig_nbformat": 4
 },
 "nbformat": 4,
 "nbformat_minor": 2
}
